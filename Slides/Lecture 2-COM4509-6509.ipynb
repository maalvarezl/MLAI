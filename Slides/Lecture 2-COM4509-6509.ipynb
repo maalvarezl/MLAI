{
 "cells": [
  {
   "cell_type": "markdown",
   "metadata": {
    "slideshow": {
     "slide_type": "slide"
    }
   },
   "source": [
    "# Objective Functions and Supervised Learning\n",
    "\n",
    "## Machine Learning and Adaptive Intelligence\n",
    "\n",
    "### Mauricio Álvarez \n",
    "\n",
    "### Based on slides by Neil D. Lawrence"
   ]
  },
  {
   "cell_type": "code",
   "execution_count": null,
   "metadata": {
    "slideshow": {
     "slide_type": "subslide"
    }
   },
   "outputs": [],
   "source": [
    "import numpy as np\n",
    "import matplotlib.pyplot as plt\n",
    "from IPython import display\n",
    "import time\n",
    "\n",
    "%matplotlib inline"
   ]
  },
  {
   "cell_type": "markdown",
   "metadata": {
    "slideshow": {
     "slide_type": "slide"
    }
   },
   "source": [
    "### Objective Function\n",
    "\n",
    "- Last week we motivated the importance of probability.\n",
    "- This week we motivate the idea of the 'objective function'."
   ]
  },
  {
   "cell_type": "markdown",
   "metadata": {
    "slideshow": {
     "slide_type": "slide"
    }
   },
   "source": [
    "### Classification\n",
    "\n",
    "- In classification we take in a *feature matrix* and make predictions of *class labels* given the features. \n",
    "- Our features are $\\mathbf{x}_i$ for the $i$th data point\n",
    "- Our labels are $y_i$ which is either -1 (negative) or +1 (positive).\n"
   ]
  },
  {
   "cell_type": "markdown",
   "metadata": {
    "slideshow": {
     "slide_type": "slide"
    }
   },
   "source": [
    "### Classification\n",
    "\n",
    "- predict the class label, $y_i$, given the features associated with that data point, $\\mathbf{x}_i$, using the *prediction function*: \n",
    "\n",
    "    $$f(\\mathbf{x}_i) = \\text{sign}\\left(\\mathbf{w}^\\top \\mathbf{x}_i + b\\right)$$\n",
    "\n",
    "- Remember how the $g(z)=\\text{sign}(z)$ function is defined\n",
    "\n",
    "\\begin{equation}\n",
    "g(z)=\\text{sign}(z)=\n",
    "\\begin{cases}\n",
    "+1 & z>0\\\\\n",
    "-1 & z<0\n",
    "\\end{cases}\n",
    "\\end{equation}\n",
    "\n",
    "\n",
    "\n",
    "- Decision boundary for the classification is given by a *hyperplane*. \n",
    "- Vector $\\mathbf{w}$ is the [normal vector](http://en.wikipedia.org/wiki/Normal_(geometry)) to the hyperplane.\n",
    "- Hyperplane is described by the formula $\\mathbf{w}^\\top \\mathbf{x} = -b$ \n",
    "- Sometimes we use $b=w_0$"
   ]
  },
  {
   "cell_type": "markdown",
   "metadata": {
    "slideshow": {
     "slide_type": "slide"
    }
   },
   "source": [
    "## Graphical representation\n",
    "\n",
    "<img src=\"diagrams/decision_boundary.png\" width=\"600\" height=\"50\" align=center>\n",
    "\n",
    "Chapter 4, Bishop (2006)."
   ]
  },
  {
   "cell_type": "markdown",
   "metadata": {
    "slideshow": {
     "slide_type": "slide"
    }
   },
   "source": [
    "### Toy Data\n",
    "\n",
    "- Need to draw a decision boundary that separates red crosses from green circles."
   ]
  },
  {
   "cell_type": "code",
   "execution_count": null,
   "metadata": {
    "scrolled": true
   },
   "outputs": [],
   "source": [
    "n_data_per_class = 30\n",
    "np.random.seed(seed=1000001)\n",
    "x_plus = np.random.normal(loc=1.3, size=(n_data_per_class, 2))\n",
    "x_minus = np.random.normal(loc=-1.3, size=(n_data_per_class, 2))\n",
    "\n",
    "# plot data\n",
    "plt.figure(figsize=(5, 5), dpi=80)\n",
    "xlim = np.array([-3.5, 3.5])\n",
    "ylim = xlim\n",
    "plt.plot(x_plus[:, 0], x_plus[:, 1], 'rx')\n",
    "plt.plot(x_minus[:, 0], x_minus[:, 1], 'go')\n",
    "plt.xlim(xlim[0], xlim[1])\n",
    "plt.ylim(ylim[0], ylim[1]) \n",
    "plt.xlabel(r'$x_1$', fontsize=14)\n",
    "plt.ylabel(r'$x_2$', fontsize=14)"
   ]
  },
  {
   "cell_type": "markdown",
   "metadata": {
    "slideshow": {
     "slide_type": "slide"
    }
   },
   "source": [
    "### Mathematical Drawing of Decision Boundary\n",
    "\n",
    "**Refresher**: draw a hyper plane at decision boundary.\n",
    "\n",
    " - *Decision boundary*: plane where a point moves from being classified as -1 to +1. \n",
    " \n",
    " \n",
    " - We have\n",
    " \n",
    " $$\\text{sign}(\\mathbf{w}^\\top \\mathbf{x}_i + b) = \\text{sign}(w_1 x_{i, 1} + w_2 x_{i, 2} + b),\n",
    "      $$\n",
    "\n",
    "   where $x_{i,1}$ is first feature and $x_{i,2}$ is second feature. \n",
    "   "
   ]
  },
  {
   "cell_type": "markdown",
   "metadata": {
    "slideshow": {
     "slide_type": "slide"
    }
   },
   "source": [
    "### Equation of Plane\n",
    "\n",
    "$$\\text{sign}\\left(w_1 x_{i, 1} + w_2 x_{i, 2} + b\\right)$$\n",
    "\n",
    "- Equation of plane is \n",
    "  \n",
    "  $$w_1 x_{i, 1} + w_2 x_{i, 2} + b = 0$$ \n",
    "  \n",
    "  or\n",
    "  \n",
    "    $$w_1 x_{i, 1} + w_2 x_{i, 2} = -b$$ \n",
    "    \n",
    "- Next we will initialise the model and draw a decision boundary.\n"
   ]
  },
  {
   "cell_type": "markdown",
   "metadata": {
    "slideshow": {
     "slide_type": "skip"
    }
   },
   "source": [
    "# Perceptron Algorithm\n",
    "\n",
    "- If we choose a random data point $\\mathbf{x}_i$ from the dataset, we can evaluate if the current $\\mathbf{w}$ and     $b$ provide a correct prediction.\n",
    "\n",
    "\n",
    "- We apply our function \n",
    "\n",
    "  $$f(\\mathbf{x}_i) = \\text{sign}(\\mathbf{w}^\\top\\mathbf{x}_i + b)$$\n",
    "\n",
    "\n",
    "- And check if the predicted value corresponds to the actual label comparing $y_i$ and $f(\\mathbf{x}_i)$"
   ]
  },
  {
   "cell_type": "markdown",
   "metadata": {
    "slideshow": {
     "slide_type": "slide"
    }
   },
   "source": [
    "### Initial code"
   ]
  },
  {
   "cell_type": "code",
   "execution_count": null,
   "metadata": {},
   "outputs": [],
   "source": [
    "\n",
    "# Routine to keep the margins of the drawing box fixed and get the correct margin points for computing the mid points\n",
    "# later\n",
    "def margins_plot(x2, xlim, ylim, w, b):\n",
    "    if (- w[0]/w[1])>0:# cases for a positive slope                \n",
    "        #xlim = np.flip(xlim, 0)\n",
    "        #ylim = np.flip(ylim, 0)\n",
    "        if np.max(x2)>ylim[1] and np.min(x2)<ylim[0]: \n",
    "            x_margin_neg = (ylim[1] + (b/w[1]))/(- w[0]/w[1])\n",
    "            x_margin_pos = (ylim[0] + (b/w[1]))/(- w[0]/w[1])\n",
    "            y_margin_neg = ylim[1]\n",
    "            y_margin_pos = ylim[0]\n",
    "        if np.max(x2)<ylim[1] and np.min(x2)>ylim[0]:\n",
    "            x_margin_neg = xlim[1]\n",
    "            x_margin_pos = xlim[0]\n",
    "            y_margin_neg = (- w[0]/w[1])*xlim[1] - (b/w[1])\n",
    "            y_margin_pos = (- w[0]/w[1])*xlim[0] - (b/w[1])            \n",
    "        if np.max(x2)>ylim[1] and np.min(x2)>ylim[0]:\n",
    "            x_margin_neg = (ylim[1] + (b/w[1]))/(- w[0]/w[1])\n",
    "            x_margin_pos = xlim[0]\n",
    "            y_margin_neg = ylim[1]\n",
    "            y_margin_pos = (- w[0]/w[1])*xlim[0] - (b/w[1])\n",
    "        if np.max(x2)<ylim[1] and np.min(x2)<ylim[0]:\n",
    "            x_margin_neg = xlim[1]\n",
    "            x_margin_pos = (ylim[0] + (b/w[1]))/(- w[0]/w[1])\n",
    "            y_margin_neg = (- w[0]/w[1])*xlim[1] - (b/w[1]) \n",
    "            y_margin_pos =  ylim[0]                  \n",
    "    else:    \n",
    "        if np.max(x2)>ylim[1] and np.min(x2)<ylim[0]: \n",
    "            x_margin_neg = (ylim[0] + (b/w[1]))/(- w[0]/w[1])\n",
    "            x_margin_pos = (ylim[1] + (b/w[1]))/(- w[0]/w[1])\n",
    "            y_margin_neg = ylim[0]\n",
    "            y_margin_pos = ylim[1]            \n",
    "        if np.max(x2)<ylim[1] and np.min(x2)>ylim[0]:         \n",
    "            x_margin_neg = xlim[1]\n",
    "            x_margin_pos = xlim[0]\n",
    "            y_margin_neg = (- w[0]/w[1])*xlim[1] - (b/w[1])\n",
    "            y_margin_pos = (- w[0]/w[1])*xlim[0] - (b/w[1])\n",
    "        if np.max(x2)>ylim[1] and np.min(x2)>ylim[0]:\n",
    "            x_margin_neg = xlim[1]\n",
    "            x_margin_pos = (ylim[1] + (b/w[1]))/(- w[0]/w[1])\n",
    "            y_margin_neg = (- w[0]/w[1])*xlim[1] - (b/w[1])\n",
    "            y_margin_pos = ylim[1]   \n",
    "        if np.max(x2)<ylim[1] and np.min(x2)<ylim[0]:\n",
    "            x_margin_neg = (ylim[0] + (b/w[1]))/(- w[0]/w[1])\n",
    "            x_margin_pos = xlim[0]\n",
    "            y_margin_neg = ylim[0]\n",
    "            y_margin_pos = (- w[0]/w[1])*xlim[0] - (b/w[1]) \n",
    "    return x_margin_neg, x_margin_pos, y_margin_neg, y_margin_pos \n",
    "\n",
    "# Routine for plotting\n",
    "def plot_perceptron(w, b):\n",
    "    npoints = 100\n",
    "    xlim = np.array([-3.5, 3.5])\n",
    "    ylim = xlim\n",
    "    x1 = np.linspace(xlim[0], xlim[1], npoints)\n",
    "    x2 = (- w[0]/w[1])*x1 - (b/w[1])\n",
    "    x_margin_neg, x_margin_pos, y_margin_neg, y_margin_pos = margins_plot(x2, xlim, ylim, w, b)\n",
    "    x1c = (x_margin_neg + x_margin_pos)/2\n",
    "    x2c = (y_margin_neg + y_margin_pos)/2\n",
    "    x2per = (w[1]/w[0])*x1 - (w[1]/w[0])*x1c + x2c\n",
    "    #plt.axes()\n",
    "    display.clear_output(wait=True)\n",
    "    plt.figure(figsize=(5, 5), dpi=80)\n",
    "    plt.plot(x_plus[:, 0], x_plus[:, 1], 'rx')\n",
    "    plt.plot(x_minus[:, 0], x_minus[:, 1], 'go')    \n",
    "    plt.xlabel(r'$x_1$', fontsize=14)\n",
    "    plt.ylabel(r'$x_2$', fontsize=14)\n",
    "    plt.plot(x1, x2, 'b')\n",
    "    #plt.plot(x1, x2per, '--k', color='whitesmoke')\n",
    "    plt.xlim(xlim[0], xlim[1])\n",
    "    plt.ylim(ylim[0], ylim[1])    \n",
    "    plt.arrow(x1c, x2c, w[0], w[1], width=0.03, head_width=0.3, head_length=0.3, fc='k', ec='k') \n",
    "    #display.display(plt.gcf())"
   ]
  },
  {
   "cell_type": "markdown",
   "metadata": {
    "slideshow": {
     "slide_type": "slide"
    }
   },
   "source": [
    "### Initialising the Decision Boundary"
   ]
  },
  {
   "cell_type": "code",
   "execution_count": null,
   "metadata": {
    "slideshow": {
     "slide_type": "slide"
    }
   },
   "outputs": [],
   "source": [
    "#np.random.seed(seed=1001)\n",
    "w = 0.5*np.random.randn(2)\n",
    "b = 0.5*np.random.randn()\n",
    "plot_perceptron(w, b)\n",
    "x_selected = x_plus[1]\n",
    "plt.plot(x_selected[0], x_selected[1], 'o', mfc='none', mec='k', ms=15, lw=5)\n",
    "print(\"The sign for the selected value is \", np.sign(np.dot(w, x_selected)+b))"
   ]
  },
  {
   "cell_type": "markdown",
   "metadata": {
    "slideshow": {
     "slide_type": "subslide"
    }
   },
   "source": [
    "   \n",
    "### Drawing Decision Boundary\n",
    "\n",
    "The decision boundary is where the output of the function changes from -1 to +1 (or vice versa) so it's the point at which the argument of the $\\text{sign}$ function is zero. So in other words, the decision boundary is given by the *line* defined by $x_1 w_1 + x_2 w_2 = -b$ (where we have dropped the index $i$ for convenience). In this two dimensional space the decision boundary is defined by a line. In a three dimensional space it would be defined by a *plane*  and in higher dimensional spaces it is defined by something called a *[hyperplane](http://en.wikipedia.org/wiki/Hyperplane)*. This equation is therefore often known as the *separating hyperplane* because it defines the hyperplane that separates the data. To draw it in 2-D we can choose some values to plot from $x_1$ and then find the corresponding values for $x_2$ to plot using the rearrangement of the hyperplane formula as follows\n",
    "\n",
    "$$x_2 = -\\frac{(b+x_1w_1)}{w_2}$$\n",
    "\n",
    "Of course, we can also choose to specify the values for $x_2$ and compute the values for $x_1$ given the values for $x_2$,\n",
    "\n",
    "$$x_1 = -\\frac{b + x_2w_2}{w_1}$$"
   ]
  },
  {
   "cell_type": "markdown",
   "metadata": {
    "slideshow": {
     "slide_type": "subslide"
    }
   },
   "source": [
    "### Switching Formulae\n",
    "\n",
    "It turns out that sometimes we need to use the first formula, and sometimes we need to use the second. Which formula we use depends on how the separating hyperplane leaves the plot. \n",
    "\n",
    "We want to draw the separating hyperplane in the bounds of the plot which is showing our data. To think about which equation to use, let's consider two separate situations (actually there are a few more). \n",
    "\n",
    "1. If the separating hyperplane leaves the top and bottom of the plot then we want to plot a line with values in the $y$ direction (given by $x_2$) given by the upper and lower limits of our plot. The values in the $x$ direction can then be computed from the formula for the plane. \n",
    "\n",
    "2. Conversely if the line leaves the sides of the plot then we want to plot a line with values in the $x$ direction given by the limits of the plot. Then the values in the $y$ direction can be computed from the formula. Whether the line leaves the top/bottom or the sides of the plot is dependent on the relative values of $w_1$ and $w_2$. \n",
    "\n",
    "This motivates a simple `if` statement to check which situation we're in."
   ]
  },
  {
   "cell_type": "markdown",
   "metadata": {
    "slideshow": {
     "slide_type": "slide"
    }
   },
   "source": [
    "### Perceptron algorithm"
   ]
  },
  {
   "cell_type": "code",
   "execution_count": null,
   "metadata": {
    "slideshow": {
     "slide_type": "subslide"
    }
   },
   "outputs": [],
   "source": [
    "# %load -s update_perceptron mlai.py\n",
    "def update_perceptron(w, b, x_plus, x_minus, learn_rate):\n",
    "    \"Update the perceptron.\"\n",
    "    # select a point at random from the data\n",
    "    choose_plus = np.random.uniform(size=1)>0.5\n",
    "    updated=False\n",
    "    if choose_plus:\n",
    "        # choose a point from the positive data\n",
    "        index = np.random.randint(x_plus.shape[0])\n",
    "        x_select = x_plus[index, :]\n",
    "        if np.dot(w, x_select)+b <= 0.:\n",
    "            # point is currently incorrectly classified\n",
    "            w += learn_rate*x_select\n",
    "            b += learn_rate\n",
    "            updated=True\n",
    "    else:\n",
    "        # choose a point from the negative data\n",
    "        index = np.random.randint(x_minus.shape[0])\n",
    "        x_select = x_minus[index, :]\n",
    "        if np.dot(w, x_select)+b > 0.:\n",
    "            # point is currently incorrectly classified\n",
    "            w -= learn_rate*x_select\n",
    "            b -= learn_rate\n",
    "            updated=True\n",
    "    return w, b, x_select, updated\n"
   ]
  },
  {
   "cell_type": "markdown",
   "metadata": {
    "slideshow": {
     "slide_type": "slide"
    }
   },
   "source": [
    "## How the algorithm works?\n",
    "\n",
    "- We want to find parameters $\\mathbf{w}$ and $b$ that allow a correct prediction for a datapoint $\\mathbf{x}_i$.\n",
    "\n",
    "\n",
    "- We can then run an algorithm with the following rules: \n",
    "\n",
    "    - If the vector $\\mathbf{x}_i$ is correctly classified using $\\mathbf{w}$ and $b$, we don't change those\n",
    "      parameters.\n",
    "        \n",
    "    - If the vector $\\mathbf{x}_i$ is incorrectly classified using $\\mathbf{w}$ and $b$, we change those\n",
    "      parameters by adding a correction term."
   ]
  },
  {
   "cell_type": "markdown",
   "metadata": {
    "slideshow": {
     "slide_type": "slide"
    }
   },
   "source": [
    "## What is the correction term  that we add?\n",
    "\n",
    "- If the vector $\\mathbf{x}_i$ is incorrectly classified as negative being positive, we add $\\eta\\mathbf{x}_i$ to $\\mathbf{w}$ and $\\eta $ to $b$.\n",
    "\n",
    "\n",
    "- If the vector $\\mathbf{x}_i$ is incorrectly classified as positive being negative, we substract $\\eta\\mathbf{x}_i$ \n",
    "to $\\mathbf{w}$ and $\\eta$ to $b$.\n",
    "\n",
    "\n",
    "- $\\eta$ is known as the learning rate."
   ]
  },
  {
   "cell_type": "markdown",
   "metadata": {
    "slideshow": {
     "slide_type": "slide"
    }
   },
   "source": [
    "## Why this works?\n",
    "\n",
    "- As an example, say $\\mathbf{x}_i$ has label $y_i=+1$, but $\\mathbf{w}$ and $b$ are such that the prediction is \n",
    "  $f(\\mathbf{x}_i) = -1$\n",
    "  \n",
    "  $$\n",
    "   f(\\mathbf{x}_i) = \\text{sign}(\\mathbf{w}^{\\top}\\mathbf{x}_i + b) = -1\n",
    "  $$ \n",
    "\n",
    "\n",
    "- The above implies that $\\mathbf{w}^{\\top}\\mathbf{x}_i + b < 0$\n",
    "\n",
    "\n",
    "- Now we apply the correction terms to $\\mathbf{w}$ and $b$. Let's call the new values for $\\mathbf{w}$ and $b$, $\\mathbf{w}_{\\text{new}}$ and $b_{\\text{new}}$,\n",
    "\n",
    "    \\begin{align*}\n",
    "      \\mathbf{w}_{\\text{new}} & = \\mathbf{w} + \\eta \\mathbf{x}_i\\\\\n",
    "                            b_{\\text{new}} & = b + \\eta\n",
    "    \\end{align*}\n",
    "    \n",
    "- The new predicted value will be    \n",
    "  \n",
    "  \\begin{align}\n",
    "   f(\\mathbf{x}_i) & = \\text{sign}(\\mathbf{w}_{\\text{new}}^{\\top}\\mathbf{x}_i + b_{\\text{new}}) \\\\\n",
    "                   &  = \\text{sign}((\\mathbf{w}+\\eta \\mathbf{x}_i)^{\\top}\\mathbf{x}_i +  b + \\eta)\\\\\n",
    "                   &  = \\text{sign}(\\mathbf{w}^{\\top}\\mathbf{x}_i + b +\\eta \\mathbf{x}_i^{\\top}\\mathbf{x}_i + \\eta)\n",
    "  \\end{align} \n",
    "  \n",
    "  \n",
    "- Notice how the term $\\eta \\mathbf{x}_i^{\\top}\\mathbf{x}_i + \\eta$ (strictly positive) pushes the argument of         $f(\\cdot)$ to become positive and making the right prediction.\n",
    " "
   ]
  },
  {
   "cell_type": "code",
   "execution_count": null,
   "metadata": {
    "slideshow": {
     "slide_type": "subslide"
    }
   },
   "outputs": [],
   "source": [
    "def run_perceptron(w, b, learn_rate, how_many):\n",
    "    for i in range(how_many):   \n",
    "        plot_perceptron(w, b) \n",
    "        w, b, x_selected, updated = update_perceptron(w, b, x_plus, x_minus, learn_rate)\n",
    "        plt.plot(x_selected[0], x_selected[1], 'o', \\\n",
    "             mfc='none', mec='k', ms=15, lw=5)\n",
    "        if updated:\n",
    "            plt.title('Incorrect classification: needs updating', {'fontsize': 15})\n",
    "            plt.pause(5)\n",
    "        else:\n",
    "            plt.title('Correct classification', {'fontsize': 15})\n",
    "            plt.pause(2)"
   ]
  },
  {
   "cell_type": "code",
   "execution_count": null,
   "metadata": {
    "slideshow": {
     "slide_type": "subslide"
    }
   },
   "outputs": [],
   "source": [
    "niters = 20\n",
    "learn_rate = 0.5\n",
    "run_perceptron(w, b, learn_rate, niters)"
   ]
  },
  {
   "cell_type": "markdown",
   "metadata": {
    "slideshow": {
     "slide_type": "slide"
    }
   },
   "source": [
    "### Perceptron Reflection\n",
    "\n",
    " - The perceptron is an algorithm. \n",
    " - What is it doing? When will it fail?\n",
    " - We can explain the update equations and prove it converges (when it does!)\n",
    " - But, where did these update equations come from? \n",
    " - They come from first defining an *objective function*, *perceptron criterion*, and then optimising it.\n",
    " - An objective function is also known as loss function, error function, cost function"
   ]
  },
  {
   "cell_type": "markdown",
   "metadata": {
    "slideshow": {
     "slide_type": "slide"
    }
   },
   "source": [
    "### Objective Functions and Regression\n",
    "\n",
    "- Classification: map a feature vector to a class label.\n",
    "- Regression: map a feature vector to a real value. Our *prediction function* is\n",
    "\n",
    "    $$f(x_i) = mx_i + c$$\n",
    "\n",
    "- Need an *algorithm* to fit it. \n",
    "\n",
    "- Least squares: minimize an error.\n",
    "\n",
    "$$E(m, c) = \\sum_{i=1}^n (y_i - f(x_i))^2$$\n",
    "\n"
   ]
  },
  {
   "cell_type": "markdown",
   "metadata": {
    "slideshow": {
     "slide_type": "slide"
    }
   },
   "source": [
    "### Regression\n",
    "\n",
    "- Create an artifical data set.\n",
    "\n"
   ]
  },
  {
   "cell_type": "code",
   "execution_count": null,
   "metadata": {},
   "outputs": [],
   "source": [
    "np.random.seed(seed=1001)\n",
    "#x = np.random.normal(size=4)\n",
    "x = np.linspace(-2,2, 4)"
   ]
  },
  {
   "cell_type": "markdown",
   "metadata": {},
   "source": [
    "We now need to decide on a *true* value for $m$ and a *true* value for $c$ to use for generating the data. "
   ]
  },
  {
   "cell_type": "code",
   "execution_count": null,
   "metadata": {},
   "outputs": [],
   "source": [
    "m_true = 1.4\n",
    "c_true = -3.1"
   ]
  },
  {
   "cell_type": "markdown",
   "metadata": {},
   "source": [
    "We can use these values to create our artificial data. The formula \n",
    "$$y_i = mx_i + c$$ is translated to code as follows:"
   ]
  },
  {
   "cell_type": "code",
   "execution_count": null,
   "metadata": {},
   "outputs": [],
   "source": [
    "y = m_true*x+c_true"
   ]
  },
  {
   "cell_type": "markdown",
   "metadata": {
    "slideshow": {
     "slide_type": "slide"
    }
   },
   "source": [
    "### Plot of Data\n",
    "We can now plot the artifical data we've created."
   ]
  },
  {
   "cell_type": "code",
   "execution_count": null,
   "metadata": {},
   "outputs": [],
   "source": [
    "plt.plot(x, y, 'r.', markersize=10) # plot data as red dots\n",
    "plt.xlim([-3, 3])"
   ]
  },
  {
   "cell_type": "markdown",
   "metadata": {},
   "source": [
    "These points lie exactly on a straight line, that's not very realistic, let's corrupt them with a bit of Gaussian 'noise'."
   ]
  },
  {
   "cell_type": "markdown",
   "metadata": {
    "slideshow": {
     "slide_type": "slide"
    }
   },
   "source": [
    "### Noise Corrupted Plot"
   ]
  },
  {
   "cell_type": "code",
   "execution_count": null,
   "metadata": {},
   "outputs": [],
   "source": [
    "np.random.seed(seed=22050)\n",
    "noise = np.random.normal(scale=0.5, size=4) # standard deviation of the noise is 0.5\n",
    "y = m_true*x + c_true + noise\n",
    "plt.plot(x, y, 'r.', markersize=10)\n",
    "plt.xlim([-3, 3])"
   ]
  },
  {
   "cell_type": "markdown",
   "metadata": {
    "slideshow": {
     "slide_type": "slide"
    }
   },
   "source": [
    "### Contour Plot of Error Function\n",
    "\n",
    "- Visualise the error function surface, create vectors of values."
   ]
  },
  {
   "cell_type": "code",
   "execution_count": null,
   "metadata": {},
   "outputs": [],
   "source": [
    "# create an array of linearly separated values around m_true\n",
    "m_vals = np.linspace(m_true-3, m_true+3, 100) \n",
    "# create an array of linearly separated values ae\n",
    "c_vals = np.linspace(c_true-3, c_true+3, 100) "
   ]
  },
  {
   "cell_type": "markdown",
   "metadata": {},
   "source": [
    "- create a grid of values to evaluate the error function in 2D."
   ]
  },
  {
   "cell_type": "code",
   "execution_count": null,
   "metadata": {},
   "outputs": [],
   "source": [
    "m_grid, c_grid = np.meshgrid(m_vals, c_vals) "
   ]
  },
  {
   "cell_type": "markdown",
   "metadata": {},
   "source": [
    "- compute the error function at each  combination of $c$ and $m$.\n"
   ]
  },
  {
   "cell_type": "code",
   "execution_count": null,
   "metadata": {},
   "outputs": [],
   "source": [
    "E_grid = np.zeros((100, 100))\n",
    "for i in range(100):\n",
    "    for j in range(100):\n",
    "        E_grid[i, j] = ((y - m_grid[i, j]*x - c_grid[i, j])**2).sum()"
   ]
  },
  {
   "cell_type": "markdown",
   "metadata": {
    "slideshow": {
     "slide_type": "slide"
    }
   },
   "source": [
    "# Contour Plot of Error\n",
    "\n",
    " - We can now make a contour plot."
   ]
  },
  {
   "cell_type": "code",
   "execution_count": null,
   "metadata": {},
   "outputs": [],
   "source": [
    "# %load -s regression_contour teaching_plots.py\n",
    "def regression_contour(f, ax, m_vals, c_vals, E_grid):\n",
    "    \"Regression contour plot.\"\n",
    "    hcont = ax.contour(m_vals, c_vals, E_grid, levels=[0, 0.25, 0.5, 1, 2, 4, 8, 16, 32, 64]) # this makes the contour plot    \n",
    "    plt.clabel(hcont, inline=1, fontsize=10) # this labels the contours.\n",
    "\n",
    "    ax.set_xlabel('$m$', fontsize=20)\n",
    "    ax.set_ylabel('$c$', fontsize=20)\n"
   ]
  },
  {
   "cell_type": "code",
   "execution_count": null,
   "metadata": {
    "slideshow": {
     "slide_type": "subslide"
    }
   },
   "outputs": [],
   "source": [
    "f, ax = plt.subplots(figsize=(5,5))\n",
    "regression_contour(f, ax, m_vals, c_vals, E_grid)"
   ]
  },
  {
   "cell_type": "markdown",
   "metadata": {
    "slideshow": {
     "slide_type": "slide"
    }
   },
   "source": [
    "### Steepest Descent\n",
    "\n",
    "- Minimize the sum of squares error function. \n",
    "- One way of doing that is gradient descent. \n",
    "- Initialize with a guess for $m$ and $c$ \n",
    "- Update that guess by subtracting a portion of the gradient from the guess. \n",
    "- Like walking down a hill in the steepest direction of the hill to get to the bottom."
   ]
  },
  {
   "cell_type": "markdown",
   "metadata": {
    "slideshow": {
     "slide_type": "slide"
    }
   },
   "source": [
    "### Algorithm\n",
    "\n",
    "- We start with a guess for $m$ and $c$."
   ]
  },
  {
   "cell_type": "code",
   "execution_count": null,
   "metadata": {},
   "outputs": [],
   "source": [
    "m_star = 0.0\n",
    "c_star = -5.0"
   ]
  },
  {
   "cell_type": "markdown",
   "metadata": {
    "slideshow": {
     "slide_type": "slide"
    }
   },
   "source": [
    "### Offset Gradient\n",
    "\n",
    "- Now we need to compute the gradient of the error function, firstly with respect to $c$,\n",
    "\n",
    "  $$\\frac{\\text{d}E(m, c)}{\\text{d} c} = -2\\sum_{i=1}^n (y_i - mx_i - c)$$\n",
    "\n",
    "- This is computed in python as follows"
   ]
  },
  {
   "cell_type": "code",
   "execution_count": null,
   "metadata": {},
   "outputs": [],
   "source": [
    "c_grad = -2*(y-m_star*x - c_star).sum()\n",
    "print(\"Gradient with respect to c is \", c_grad)"
   ]
  },
  {
   "cell_type": "markdown",
   "metadata": {
    "slideshow": {
     "slide_type": "subslide"
    }
   },
   "source": [
    "### Deriving the Gradient\n",
    "\n",
    "To see how the gradient was derived, first note that the $c$ appears in every term in the sum. So we are just differentiating $(y_i - mx_i - c)^2$ for each term in the sum. The gradient of this term with respect to $c$ is simply the gradient of the outer quadratic, multiplied by the gradient with respect to $c$ of the part inside the quadratic. The gradient of a quadratic is two times the argument of the quadratic, and the gradient of the inside linear term is just minus one. This is true for all terms in the sum, so we are left with the sum in the gradient. "
   ]
  },
  {
   "cell_type": "markdown",
   "metadata": {
    "slideshow": {
     "slide_type": "slide"
    }
   },
   "source": [
    "### Slope Gradient\n",
    "\n",
    "The gradient with respect tom $m$ is similar, but now the gradient of the quadratic's argument is $-x_i$ so the gradient with respect to $m$ is\n",
    "\n",
    "$$\\frac{\\text{d}E(m, c)}{\\text{d} m} = -2\\sum_{i=1}^n x_i(y_i - mx_i - c)$$\n",
    "\n",
    "which can be implemented in python (numpy) as"
   ]
  },
  {
   "cell_type": "code",
   "execution_count": null,
   "metadata": {},
   "outputs": [],
   "source": [
    "m_grad = -2*(x*(y-m_star*x - c_star)).sum()\n",
    "print(\"Gradient with respect to m is \", m_grad)"
   ]
  },
  {
   "cell_type": "markdown",
   "metadata": {
    "slideshow": {
     "slide_type": "slide"
    }
   },
   "source": [
    "### Update Equations\n",
    "\n",
    "\n",
    "- Now we have gradients with respect to $m$ and $c$.\n",
    "- We can update our inital guesses for $m$ and $c$ using the gradient. \n",
    "- We don't want to just subtract the gradient from $m$ and $c$, \n",
    "- We need to take a *small* step in the gradient direction. \n",
    "- Otherwise we might overshoot the minimum. \n",
    "- We want to follow the gradient to get to the minimum, the gradient changes all the time. \n"
   ]
  },
  {
   "cell_type": "markdown",
   "metadata": {
    "slideshow": {
     "slide_type": "slide"
    }
   },
   "source": [
    "### Move in Direction of Gradient"
   ]
  },
  {
   "cell_type": "code",
   "execution_count": null,
   "metadata": {
    "slideshow": {
     "slide_type": "slide"
    }
   },
   "outputs": [],
   "source": [
    "f, ax = plt.subplots(figsize=(7,7))\n",
    "regression_contour(f, ax, m_vals, c_vals, E_grid)\n",
    "ax.plot(m_star, c_star, 'g*', markersize=15)\n",
    "ax.arrow(m_star, c_star, -m_grad*0.05, -c_grad*0.05, head_width=0.15)"
   ]
  },
  {
   "cell_type": "markdown",
   "metadata": {
    "slideshow": {
     "slide_type": "slide"
    }
   },
   "source": [
    "## Update Equations \n",
    "\n",
    "- The step size has already been introduced, it's again known as the learning rate and is denoted by $\\eta$. \n",
    "\n",
    "  $$c_\\text{new} \\leftarrow c_{\\text{old}} - \\eta \\frac{\\text{d}E(m, c)}{\\text{d}c}$$ \n",
    "\n",
    "- gives us an update for our estimate of $c$ (which in the code we've been calling `c_star` to represent a common way of writing a parameter estimate, $c^*$) and \n",
    "\n",
    "  $$m_\\text{new} \\leftarrow m_{\\text{old}} - \\eta \\frac{\\text{d}E(m, c)}{\\text{d}m}$$\n",
    "  \n",
    "- Giving us an update for $m$."
   ]
  },
  {
   "cell_type": "markdown",
   "metadata": {
    "slideshow": {
     "slide_type": "slide"
    }
   },
   "source": [
    "## Update Code\n",
    "\n",
    "- These updates can be coded as"
   ]
  },
  {
   "cell_type": "code",
   "execution_count": null,
   "metadata": {},
   "outputs": [],
   "source": [
    "print(\"Original m was\", m_star, \"and original c was\", c_star)\n",
    "learn_rate = 0.01\n",
    "c_star = c_star - learn_rate*c_grad\n",
    "m_star = m_star - learn_rate*m_grad\n",
    "print(\"New m is\", m_star, \"and new c is\", c_star)\n"
   ]
  },
  {
   "cell_type": "markdown",
   "metadata": {
    "slideshow": {
     "slide_type": "slide"
    }
   },
   "source": [
    "# Iterating Updates\n",
    "\n",
    "- Fit model by descending gradient. "
   ]
  },
  {
   "cell_type": "markdown",
   "metadata": {
    "slideshow": {
     "slide_type": "slide"
    }
   },
   "source": [
    "### Gradient Descent Algorithm"
   ]
  },
  {
   "cell_type": "code",
   "execution_count": null,
   "metadata": {
    "slideshow": {
     "slide_type": "slide"
    }
   },
   "outputs": [],
   "source": [
    "def plot_regression_contour_fit(f, ax, x, y, learn_rate = 0.1, iters = 10):\n",
    "    m_star = 0.0\n",
    "    c_star = -5.0\n",
    "    E = np.empty(iters+1)\n",
    "    E[0] = ((y - m_star*x - c_star)**2).sum()\n",
    "    regression_contour(f, ax, m_vals, c_vals, E_grid)\n",
    "    ax.plot(m_star, c_star, 'g*', markersize=10)\n",
    "    plt.pause(1.5)\n",
    "    c_vec = c_star\n",
    "    m_vec = m_star\n",
    "    for i in range(iters):\n",
    "        c_grad = -2*(y-m_star*x - c_star).sum()\n",
    "        m_grad = -2*(x*(y-m_star*x - c_star)).sum()       \n",
    "        #c_ant = c_star\n",
    "        #m_ant = m_star                \n",
    "        c_star = c_star - learn_rate*c_grad\n",
    "        m_star = m_star - learn_rate*m_grad\n",
    "        c_vec = np.append(c_vec, c_star)\n",
    "        m_vec = np.append(m_vec, m_star)\n",
    "        display.clear_output(wait=True)\n",
    "        f, ax = plt.subplots(figsize=(7,7))\n",
    "        regression_contour(f, ax, m_vals, c_vals, E_grid)\n",
    "        ax.plot(m_vec[0:m_vec.shape[0]-1], c_vec[0:c_vec.shape[0]-1], 'r*', markersize=10)\n",
    "        ax.plot(m_star, c_star, 'g*', markersize=10)\n",
    "        ax.plot(m_vec, c_vec, 'k')              \n",
    "        E[i+1] = ((y - m_star*x - c_star)**2).sum()\n",
    "        print(\"Iteration {} Objective function: {:02.4f}.\".format(i+1, E[i+1]))\n",
    "        plt.pause(1.2)\n",
    "    return m_star, c_star"
   ]
  },
  {
   "cell_type": "code",
   "execution_count": null,
   "metadata": {
    "scrolled": false,
    "slideshow": {
     "slide_type": "slide"
    }
   },
   "outputs": [],
   "source": [
    "f, ax = plt.subplots(figsize=(5,5), dpi=80)\n",
    "m_star, c_star = plot_regression_contour_fit(f, ax, x, y, learn_rate = 0.05, iters=20)"
   ]
  },
  {
   "cell_type": "code",
   "execution_count": null,
   "metadata": {},
   "outputs": [],
   "source": [
    "print(\"The true value for the slope m is {:02.4f}. The estimated value is {:02.4f}.\\n\".format(m_true, m_star))\n",
    "print(\"The true value for the intersect c is {:02.4f}. The estimated value is {:02.4f}.\\n\".format(c_true, c_star))"
   ]
  },
  {
   "cell_type": "markdown",
   "metadata": {
    "slideshow": {
     "slide_type": "slide"
    }
   },
   "source": [
    "### Stochastic Gradient Descent\n",
    "\n",
    "- If $n$ is small, gradient descent is fine.\n",
    "- But sometimes, e.g. on the internet, $n$ could be a billion.\n",
    "- Stochastic gradient descent is more similar to perceptron.\n",
    "- Look at gradient of one data point at a time rather than summing across *all* data points. \n",
    "- This gives a stochastic estimate of gradient.\n",
    "\n",
    " "
   ]
  },
  {
   "cell_type": "markdown",
   "metadata": {
    "slideshow": {
     "slide_type": "slide"
    }
   },
   "source": [
    "### Stochastic Gradient Descent\n",
    "\n",
    "The real gradient with respect to $m$ is given by \n",
    "\n",
    "  $$\\frac{\\text{d}E(m, c)}{\\text{d} m} = -2\\sum_{i=1}^n x_i(y_i - mx_i - c).$$\n",
    "\n",
    "It has $n$ terms in the sum. \n",
    "\n",
    "Remember the update equation for $m_\\text{new}$:\n",
    "\n",
    "$$m_\\text{new} \\leftarrow m_{\\text{old}} - \\eta \\frac{\\text{d}E(m, c)}{\\text{d}m}$$\n",
    "  \n",
    "Substituting in the gradient we can see that the full update is of the form\n",
    "\n",
    " $$m_\\text{new} \\leftarrow m_\\text{old} + 2\\eta \\sum_{i=1}^n x_i(y_i - m_\\text{old}x_i - c_\\text{old})$$\n",
    "\n",
    "Or\n",
    "  \n",
    "  $$m_\\text{new} \\leftarrow m_\\text{old} + 2\\eta \\left[x_1 (y_1 - m_\\text{old}x_1 - c_\\text{old}) \n",
    "     + (x_2 (y_2 -   m_\\text{old}x_2 - c_\\text{old}) + \\dots + (x_n (y_n - m_\\text{old}x_n - c_\\text{old})\\right]$$"
   ]
  },
  {
   "cell_type": "markdown",
   "metadata": {
    "slideshow": {
     "slide_type": "slide"
    }
   },
   "source": [
    "### Stochastic Gradient Descent\n",
    "\n",
    "This could be split up into lots of individual updates\n",
    "\n",
    "$$m_1 \\leftarrow m_\\text{old} + 2\\eta \\left[x_1 (y_1 - m_\\text{old}x_1 - c_\\text{old})\\right]$$\n",
    "$$m_2 \\leftarrow m_1 + 2\\eta \\left[x_2 (y_2 - m_\\text{old}x_2 - c_\\text{old})\\right]$$\n",
    "$$m_3 \\leftarrow m_2 + 2\\eta \\left[x_3 (y_3 - m_\\text{old}x_3 - c_\\text{old})\\right]$$\n",
    "\n",
    "Up until\n",
    "\n",
    "$$m_n \\leftarrow m_{n-1} + 2\\eta \\left[x_n (y_n - m_\\text{old}x_n - c_\\text{old})\\right]$$\n",
    "\n",
    "which would lead to the same final update."
   ]
  },
  {
   "cell_type": "markdown",
   "metadata": {
    "slideshow": {
     "slide_type": "slide"
    }
   },
   "source": [
    "### Updating $c$ and $m$\n",
    "\n",
    "- We  can present each data point in a random order, like we did for the perceptron.\n",
    "\n",
    "\n",
    "- This makes the algorithm suitable for large scale web use (recently this domain is know as 'Big Data') and algorithms like this are widely used by Google, Microsoft, Amazon, Twitter and Facebook.\n"
   ]
  },
  {
   "cell_type": "markdown",
   "metadata": {
    "slideshow": {
     "slide_type": "slide"
    }
   },
   "source": [
    "### Stochastic Gradient Descent\n",
    "\n",
    "Since the data is normally presented in a random order we just can write\n",
    "\n",
    "  $$m_\\text{new} = m_\\text{old} + 2\\eta\\left[x_i (y_i - m_\\text{old}x_i - c_\\text{old})\\right]$$"
   ]
  },
  {
   "cell_type": "markdown",
   "metadata": {
    "slideshow": {
     "slide_type": "slide"
    }
   },
   "source": [
    "### Reflection on Linear Regression and Supervised Learning\n",
    "\n",
    "Think about:\n",
    "\n",
    "1. What effect does the learning rate have in the optimization? What's the effect of making it too small, what's the effect of making it too big? Do you get the same result for both stochastic and steepest gradient descent?\n",
    "\n",
    "\n",
    "2. The stochastic gradient descent doesn't help very much for such a small data set. "
   ]
  },
  {
   "cell_type": "markdown",
   "metadata": {
    "slideshow": {
     "slide_type": "slide"
    }
   },
   "source": [
    "### Lab Class\n",
    "\n",
    "- You will take the ideas you have learnt and apply them in the domain of *matrix factorisation*.\n",
    "\n",
    "\n",
    "- Matrix factorization presents a different error function."
   ]
  },
  {
   "cell_type": "markdown",
   "metadata": {
    "collapsed": true,
    "slideshow": {
     "slide_type": "slide"
    }
   },
   "source": [
    "### Reading\n",
    "- Section 1.1.3 of Rogers and Girolami (2016) for loss functions."
   ]
  }
 ],
 "metadata": {
  "celltoolbar": "Slideshow",
  "kernelspec": {
   "display_name": "Python 3",
   "language": "python",
   "name": "python3"
  },
  "language_info": {
   "codemirror_mode": {
    "name": "ipython",
    "version": 3
   },
   "file_extension": ".py",
   "mimetype": "text/x-python",
   "name": "python",
   "nbconvert_exporter": "python",
   "pygments_lexer": "ipython3",
   "version": "3.6.8"
  },
  "rise": {
   "height": "90%",
   "width": "90%"
  }
 },
 "nbformat": 4,
 "nbformat_minor": 1
}
