{
 "cells": [
  {
   "cell_type": "markdown",
   "metadata": {},
   "source": [
    "# Assignment 1 Brief \n",
    "\n",
    "## Deadline: Tuesday, October 29, 2019 at 14:00 hrs\n",
    "\n",
    "## Number of marks available: 20\n",
    "\n",
    "## Scope: Sessions 1 to 5\n",
    "\n",
    "### How and what to submit\n",
    "\n",
    "A. Submit a Jupyter Notebook named COM4509-6509_Assignment_1_UCard_XXXXXXXXX.ipynb where XXXXXXXXX refers to your UCard number.\n",
    "\n",
    "B. Upload the notebook file to MOLE before the deadline above.\n",
    "\n",
    "C. **NO DATA UPLOAD**: Please do not upload the data files used. We have a copy already. \n",
    "\n",
    "\n",
    "### Assessment Criteria \n",
    "\n",
    "* Being able to express an objective function and its gradients in matrix form.\n",
    "\n",
    "* Being able to use numpy and pandas to preprocess a dataset.\n",
    "\n",
    "* Being able to use numpy to build a machine learning pipeline for supervised learning. \n",
    "\n",
    "\n",
    "### Late submissions\n",
    "\n",
    "We follow Department's guidelines about late submissions, i.e., a deduction of 5% of the mark each working day the work is late after the deadline. NO late submission will be marked one week after the deadline because we will release a solution by then. Please read [this link](https://sites.google.com/sheffield.ac.uk/compgtstudenthandbook/menu/assessment/late-submission?pli=1&authuser=1). \n",
    "\n",
    "### Use of unfair means \n",
    "\n",
    "**\"Any form of unfair means is treated as a serious academic offence and action may be taken under the Discipline Regulations.\"** (from the MSc Handbook). Please carefully read [this link](https://sites.google.com/sheffield.ac.uk/compgtstudenthandbook/menu/referencing-unfair-means?pli=1&authuser=1) on what constitutes Unfair Means if not sure."
   ]
  },
  {
   "cell_type": "markdown",
   "metadata": {},
   "source": [
    "# Regularisation for Linear Regression\n",
    "\n",
    "Regularisation is a technique commonly used in Machine Learning to prevent overfitting. It consists on adding terms to the objective function such that the optimisation procedure avoids solutions that just learn the training data. Popular techniques for regularisation in Supervised Learning include Lasso Regression, Ridge Regression and the Elastic Net. \n",
    "\n",
    "In this Assignment, you will be looking at Ridge Regression and devising equations to optimise the objective function in Ridge Regression using two methods: a closed-form derivation and the update rules for stochastic gradient descent. You will then use those update rules for making predictions on a Air Quaility dataset.\n",
    "\n",
    "## Ridge Regression\n",
    "\n",
    "Let us start with a data set for training $\\mathcal{D} = \\{\\mathbf{y}, \\mathbf{X}\\}$, where the vector $\\mathbf{y}=[y_1, \\cdots, y_n]^{\\top}$ and $\\mathbf{X}$ is the design matrix from Lab 3, this is, \n",
    "\n",
    "\\begin{align*}\n",
    "    \\mathbf{X} = \n",
    "                \\begin{bmatrix}\n",
    "                        1 & x_{1,1} & \\cdots & x_{1, D}\\\\\n",
    "                        1 & x_{2,1} & \\cdots & x_{2, D}\\\\\n",
    "                   \\vdots &  \\vdots\\\\\n",
    "                        1 & x_{n,1} & \\cdots & x_{n, D}\n",
    "                \\end{bmatrix}\n",
    "               = \n",
    "               \\begin{bmatrix}\n",
    "                      \\mathbf{x}_1^{\\top}\\\\\n",
    "                       \\mathbf{x}_2^{\\top}\\\\\n",
    "                          \\vdots\\\\\n",
    "                        \\mathbf{x}_n^{\\top}\n",
    "                \\end{bmatrix}.\n",
    "\\end{align*}\n",
    "\n",
    "Our predictive model is going to be a linear model\n",
    "\n",
    "$$ f(\\mathbf{x}_i) = \\mathbf{w}^{\\top}\\mathbf{x}_i,$$\n",
    "\n",
    "where $\\mathbf{w} = [w_0\\; w_1\\; \\cdots \\; w_D]^{\\top}$.\n",
    "\n",
    "The **objetive function** we are going to use has the following form\n",
    "\n",
    "$$ J(\\mathbf{w}, \\alpha) = \\frac{1}{n}\\sum_{i=1}^n (y_i - f(\\mathbf{x}_i))^2 + \\frac{\\alpha}{2}\\sum_{j=0}^D w_j^2,$$\n",
    "\n",
    "where $\\alpha>0$ is known as the *regularisation* parameter.\n",
    "\n",
    "The first term on the right-hand side (rhs) of the expression for $J(\\mathbf{w}, \\alpha)$ is very similar to the least-squares objective function we have seen before, for example in Lab 3. The only difference is on the term $\\frac{1}{n}$ that we use to normalise the objective with respect to the number of observations in the dataset. \n",
    "\n",
    "The first term on the rhs is what we call the \"fitting\" term whereas the second term in the expression is the regularisation term. Given $\\alpha$, the two terms in the expression have different purposes. The first term is looking for a value of $\\mathbf{w}$ that leads the squared-errors to zero. While doing this, $\\mathbf{w}$ can take any value and lead to a solution that it is only good for the training data but perhaps not for the test data. The second term is regularising the behavior of the first term by driving the $\\mathbf{w}$ towards zero. By doing this, it restricts the possible set of values that $\\mathbf{w}$ might take according to the first term. The value that we use for $\\alpha$ will allow a compromise between a value of $\\mathbf{w}$ that exactly fits the data (first term) or a value of $\\mathbf{w}$ that does not grow too much (second term).\n",
    "\n",
    "This type of regularisation has different names: ridge regression, Tikhonov regularisation or $\\ell_2$ norm regularisation. \n",
    "\n",
    "### Question 1: $J(\\mathbf{w}, \\alpha)$ in matrix form (2 marks)\n",
    "\n",
    "Write the expression for $J(\\mathbf{w}, \\alpha)$ in matrix form. Include ALL the steps necessary to reach the expression."
   ]
  },
  {
   "cell_type": "markdown",
   "metadata": {},
   "source": [
    "#### Question 1 Answer\n",
    "\n",
    "Write your answer to the question in this box.\n",
    "\n",
    "We start with the original expression \n",
    "\n",
    "\\begin{align*}\n",
    "  J(\\mathbf{w}, \\alpha) &= \\frac{1}{n}\\sum_{i=1}^n (y_i - f(\\mathbf{x}_i))^2 \n",
    "                          + \\frac{\\alpha}   {2}\\sum_{j=0}^D w_j^2\n",
    "                          = \\frac{1}{n}\\sum_{i=1}^n (y_i - \\mathbf{w}^{\\top}\\mathbf{x}_i)^2 \n",
    "                          + \\frac{\\alpha}   {2}\\sum_{j=0}^D w_j^2\\\\                        \n",
    "                        &=  \\frac{1}{n}\\sum_{i=1}^n y_i^2 - \\frac{2}{n}\\sum_{i=1}^n y_i  \n",
    "                            \\mathbf{w}^{\\top}\\mathbf{x}_i + \\frac{1}{n}\\sum_{i=1}^n        \n",
    "                            \\mathbf{w}^{\\top}\\mathbf{x}_i\\mathbf{x}_i^{\\top}\\mathbf{w}\n",
    "                            + \\frac{\\alpha}   {2}\\sum_{j=0}^D w_j^2\\\\\n",
    "                         &=\\frac{1}{n}\\sum_{i=1}^n y_i^2 \n",
    "                         - \\frac{2\\mathbf{w}^{\\top}}{n}\\sum_{i=1}^n y_i\\mathbf{x}_i \n",
    "                             + \\frac{\\mathbf{w}^{\\top}}{n}\\left(\\sum_{i=1}^n        \n",
    "                            \\mathbf{x}_i\\mathbf{x}_i^{\\top}\\right)\\mathbf{w}\n",
    "                            + \\frac{\\alpha}   {2}\\sum_{j=0}^D w_j^2.                          \n",
    "\\end{align*}\n",
    "\n",
    "The terms in the sums can be written in matrix form as\n",
    "\n",
    "\\begin{align*}\n",
    "  \\sum_{i=1}^n y_i^2                            & = \\mathbf{y}^{\\top}\\mathbf{y}\\\\\n",
    "  \\sum_{i=1}^n y_i\\mathbf{x}_i                  & = \\mathbf{X}^{\\top}\\mathbf{y}\\\\\n",
    "  \\sum_{i=1}^n \\mathbf{x}_i\\mathbf{x}_i^{\\top}  & =  \\mathbf{X}^{\\top}\\mathbf{X}\\\\\n",
    "  \\sum_{j=0}^D w_j^2                            & = \\mathbf{w}^{\\top}\\mathbf{w}\n",
    "\\end{align*}\n",
    "\n",
    "Replacing these expressions in $J(\\mathbf{w}, \\alpha)$ we get \n",
    "\n",
    "\\begin{align*}\n",
    "  J(\\mathbf{w}, \\alpha)&=\\frac{1}{n}\\mathbf{y}^{\\top}\\mathbf{y} \n",
    "                         - \\frac{2}{n}\\mathbf{w}^{\\top}\\mathbf{X}^{\\top}\\mathbf{y}\n",
    "                         + \\frac{1}{n}\\mathbf{w}^{\\top}\\mathbf{X}^{\\top}\\mathbf{X}\\mathbf{w}\n",
    "                            + \\frac{\\alpha}{2}\\mathbf{w}^{\\top}\\mathbf{w}                       \n",
    "\\end{align*}\n"
   ]
  },
  {
   "cell_type": "markdown",
   "metadata": {},
   "source": [
    "## Optimising the objective function with respect to $\\mathbf{w}$\n",
    "\n",
    "There are two ways we can optimise the objective function with respect to $\\mathbf{w}$. The first one leads to a closed form expression for $\\mathbf{w}$ and the second one using an iterative optimisation procedure that updates the value of $\\mathbf{w}$ at each iteration by using the gradient of the objective function with respect to $\\mathbf{w}$,\n",
    "$$\n",
    "\\mathbf{w}_{\\text{new}} = \\mathbf{w}_{\\text{old}} - \\eta \\frac{d J(\\mathbf{w}, \\alpha)}{d\\mathbf{w}},\n",
    "$$\n",
    "where $\\eta$ is the *learning rate* parameter and $\\frac{d J(\\mathbf{w}, \\alpha)}{d\\mathbf{w}}$ is the gradient of the objective function.\n",
    "\n",
    "### Question 2: Derivative of $J(\\mathbf{w}, \\alpha)$ wrt $\\mathbf{w}$ (2 marks)\n",
    "\n",
    "Find the closed-form expression for $\\mathbf{w}$ by taking the derivative of $J(\\mathbf{w}, \\alpha)$ with respect to \n",
    "$\\mathbf{w}$, equating to zero and solving for $\\mathbf{w}$. Write the expression in matrix form. \n",
    "\n",
    "Also, write down the specific update rule for $\\mathbf{w}_{\\text{new}}$ by using the equation above."
   ]
  },
  {
   "cell_type": "markdown",
   "metadata": {},
   "source": [
    "#### Question 2 Answer\n",
    "\n",
    "Write your answer to the question in this box.\n",
    "\n",
    "Let us compute $\\frac{d J(\\mathbf{w}, \\alpha)}{d\\mathbf{w}}$ first\n",
    "\n",
    "\\begin{align*}\n",
    "    \\frac{d J(\\mathbf{w}, \\alpha)}{d\\mathbf{w}}\n",
    "        & = \\frac{d}{d\\mathbf{w}}\\left[\\frac{1}{n}\\mathbf{y}^{\\top}\\mathbf{y} \n",
    "                         - \\frac{2}{n}\\mathbf{w}^{\\top}\\mathbf{X}^{\\top}\\mathbf{y}\n",
    "                         + \\frac{1}{n}\\mathbf{w}^{\\top}\\mathbf{X}^{\\top}\\mathbf{X}\\mathbf{w}\n",
    "                            + \\frac{\\alpha}{2}\\mathbf{w}^{\\top}\\mathbf{w}\\right]\\\\\n",
    "        & = - \\frac{2}{n}\\mathbf{X}^{\\top}\\mathbf{y} \n",
    "                       + \\frac{2}{n}\\mathbf{X}^{\\top}\\mathbf{X}\\mathbf{w}\n",
    "                       + \\alpha\\mathbf{w}\\\\\n",
    "        & = - \\frac{2}{n}\\sum_{i=1}^n y_i\\mathbf{x}_i\n",
    "             + \\frac{2}{n}\\left(\\sum_{i=1}^n\\mathbf{x}_i\\mathbf{x}_i^{\\top}\\right)\\mathbf{w}\n",
    "                       + \\alpha\\mathbf{w}\\\\              \n",
    "\\end{align*}\n",
    "\n",
    "To get the closed form expression, we equate to zero and solve for $\\mathbf{w}$:\n",
    "\n",
    "\\begin{align*}    \n",
    "         - \\frac{2}{n}\\mathbf{X}^{\\top}\\mathbf{y} \n",
    "                       + \\frac{2}{n}\\mathbf{X}^{\\top}\\mathbf{X}\\mathbf{w}\n",
    "                       + \\alpha\\mathbf{w} & = 0\\\\\n",
    "          \\mathbf{X}^{\\top}\\mathbf{X}\\mathbf{w}\n",
    "                       + \\frac{\\alpha n}{2}\\mathbf{w} & = \\mathbf{X}^{\\top}\\mathbf{y}\\\\\n",
    "          \\left(\\mathbf{X}^{\\top}\\mathbf{X} + \\frac{\\alpha n}{2}\\mathbf{I}\\right)\\mathbf{w}\n",
    "                                                   & = \\mathbf{X}^{\\top}\\mathbf{y}\\\\\n",
    "            \\mathbf{w}& = \\left(\\mathbf{X}^{\\top}\\mathbf{X} + \\frac{\\alpha n}   \n",
    "                                     {2}\\mathbf{I}\\right)^{-1}\\mathbf{X}^{\\top}\\mathbf{y}\n",
    "\\end{align*}\n",
    "\n",
    "The update equation for $\\mathbf{w}_{\\text{new}}$ using gradient descent is given as\n",
    "\n",
    "\\begin{align*}\n",
    "   \\mathbf{w}_{\\text{new}} & = \\mathbf{w}_{\\text{old}} - \\eta \\frac{d J(\\mathbf{w}, \\alpha)}\n",
    "                              {d\\mathbf{w}},\\\\\n",
    "                           & = \\mathbf{w}_{\\text{old}} +  \\frac{2\\eta}{n}\\sum_{i=1}^n   \n",
    "                               \\left(y_i - \\mathbf{x}_i^{\\top}\\mathbf{w}\\right)\\mathbf{x}_i  \n",
    "                       - \\eta\\alpha\\mathbf{w}_{\\text{old}}\\\\\n",
    "                           & = (1 - \\eta\\alpha)\\mathbf{w}_{\\text{old}} + \\frac{2\\eta}\n",
    "                               {n}\\sum_{i=1}^n   \n",
    "                               \\left(y_i - \\mathbf{x}_i^{\\top}\\mathbf{w}\\right)\\mathbf{x}_i\n",
    "\\end{align*}"
   ]
  },
  {
   "cell_type": "markdown",
   "metadata": {},
   "source": [
    "# Using ridge regression to predict air quality\n",
    "\n",
    "Our dataset comes from a popular machine learning repository that hosts open source datasets for educational and research purposes, the [UCI Machine Learning Repository](https://archive.ics.uci.edu/ml/index.php). We are going to use ridge regression for predicting air quality. The description of the dataset can be found [here](https://archive.ics.uci.edu/ml/datasets/Air+Quality)."
   ]
  },
  {
   "cell_type": "code",
   "execution_count": 1,
   "metadata": {},
   "outputs": [
    {
     "name": "stdout",
     "output_type": "stream",
     "text": [
      "Downloading  https://archive.ics.uci.edu/ml/machine-learning-databases/00360/AirQualityUCI.zip -> ./AirQualityUCI.zip\n",
      "[===========================   ]   1.328/1.472MB                                                                                                                                                                                                                                                                                                                                                                                                                                                                                                                                                                                                                                                                                                                                                                                                                                                                                                                                                                                                                                                                                                                                                                                                                                                                                                                                                                                                                                                                                                                                                                                                                                                                                                                                                                                                                                                                                                                                                                                                                                                                                                                                                                                                                                                                                                                                                                                                                                                                                                                                                                                                                                                                                                                                                                                                                                                                                                                                                                                                                                                                                                                                                                                                                                                                                                                                                                                                                                                                                                                                                                                                                                                                                                                                                                                                                                                                                                                                                                                                                                                                                                                                                                                                                                                                                                                                                                                                                                                                                                                                                                                                                                                                                                                                                                                                                                                                                                                                                                                                                                                                                                                                                                                                                                                                                                                                                                                                                                                                                                                                                                                                                                                                                                                                                                                                                                                                                                                                                                                                                                                                                                                                                                                                                                                                                                                                                                                                                                                                                                                                                                                                                                                                                                                                                                                                                                                                                                                                                                                                                                                                                                                                                                                                                                                                                                                                                                                                                                                                                                                                                                                                                                                                                                                                                                                                                                                                                                                                                                                                                                                                                                                                                                                                                                                                                                                                                                                                                                                [==============================]   1.472/1.472MB                                                                                                                                                                                                                                                                                                                                                                                                                                                                                                                                                                                                                                                                                                                                                                                                                                                                                                                                                \n"
     ]
    }
   ],
   "source": [
    "import pods\n",
    "pods.util.download_url('https://archive.ics.uci.edu/ml/machine-learning-databases/00360/AirQualityUCI.zip')\n",
    "import zipfile\n",
    "zip = zipfile.ZipFile('./AirQualityUCI.zip', 'r')\n",
    "for name in zip.namelist():\n",
    "    zip.extract(name, '.')"
   ]
  },
  {
   "cell_type": "code",
   "execution_count": 2,
   "metadata": {},
   "outputs": [],
   "source": [
    "# The .csv version of the file has some typing issues, so we use the excel version\n",
    "import pandas as pd \n",
    "air_quality = pd.read_excel('./AirQualityUCI.xlsx', usecols=range(2,15))"
   ]
  },
  {
   "cell_type": "markdown",
   "metadata": {},
   "source": [
    "We can see some of the rows in the dataset "
   ]
  },
  {
   "cell_type": "code",
   "execution_count": 3,
   "metadata": {},
   "outputs": [
    {
     "data": {
      "text/html": [
       "<div>\n",
       "<style scoped>\n",
       "    .dataframe tbody tr th:only-of-type {\n",
       "        vertical-align: middle;\n",
       "    }\n",
       "\n",
       "    .dataframe tbody tr th {\n",
       "        vertical-align: top;\n",
       "    }\n",
       "\n",
       "    .dataframe thead th {\n",
       "        text-align: right;\n",
       "    }\n",
       "</style>\n",
       "<table border=\"1\" class=\"dataframe\">\n",
       "  <thead>\n",
       "    <tr style=\"text-align: right;\">\n",
       "      <th></th>\n",
       "      <th>CO(GT)</th>\n",
       "      <th>PT08.S1(CO)</th>\n",
       "      <th>NMHC(GT)</th>\n",
       "      <th>C6H6(GT)</th>\n",
       "      <th>PT08.S2(NMHC)</th>\n",
       "      <th>NOx(GT)</th>\n",
       "      <th>PT08.S3(NOx)</th>\n",
       "      <th>NO2(GT)</th>\n",
       "      <th>PT08.S4(NO2)</th>\n",
       "      <th>PT08.S5(O3)</th>\n",
       "      <th>T</th>\n",
       "      <th>RH</th>\n",
       "      <th>AH</th>\n",
       "    </tr>\n",
       "  </thead>\n",
       "  <tbody>\n",
       "    <tr>\n",
       "      <th>5419</th>\n",
       "      <td>3.8</td>\n",
       "      <td>1458.50</td>\n",
       "      <td>-200</td>\n",
       "      <td>22.913504</td>\n",
       "      <td>1375.25</td>\n",
       "      <td>412.0</td>\n",
       "      <td>467.25</td>\n",
       "      <td>111.0</td>\n",
       "      <td>2006.75</td>\n",
       "      <td>1689.75</td>\n",
       "      <td>25.950</td>\n",
       "      <td>51.925000</td>\n",
       "      <td>1.714822</td>\n",
       "    </tr>\n",
       "    <tr>\n",
       "      <th>2898</th>\n",
       "      <td>1.5</td>\n",
       "      <td>995.00</td>\n",
       "      <td>-200</td>\n",
       "      <td>9.514487</td>\n",
       "      <td>959.25</td>\n",
       "      <td>111.0</td>\n",
       "      <td>856.00</td>\n",
       "      <td>116.0</td>\n",
       "      <td>1543.75</td>\n",
       "      <td>690.25</td>\n",
       "      <td>33.950</td>\n",
       "      <td>18.375000</td>\n",
       "      <td>0.958730</td>\n",
       "    </tr>\n",
       "    <tr>\n",
       "      <th>5369</th>\n",
       "      <td>-200.0</td>\n",
       "      <td>1631.00</td>\n",
       "      <td>-200</td>\n",
       "      <td>26.040876</td>\n",
       "      <td>1455.25</td>\n",
       "      <td>-200.0</td>\n",
       "      <td>437.75</td>\n",
       "      <td>-200.0</td>\n",
       "      <td>2026.75</td>\n",
       "      <td>1915.50</td>\n",
       "      <td>22.400</td>\n",
       "      <td>64.575002</td>\n",
       "      <td>1.727112</td>\n",
       "    </tr>\n",
       "    <tr>\n",
       "      <th>901</th>\n",
       "      <td>-200.0</td>\n",
       "      <td>1141.00</td>\n",
       "      <td>-200</td>\n",
       "      <td>8.074611</td>\n",
       "      <td>902.25</td>\n",
       "      <td>-200.0</td>\n",
       "      <td>904.75</td>\n",
       "      <td>-200.0</td>\n",
       "      <td>1672.25</td>\n",
       "      <td>965.25</td>\n",
       "      <td>12.550</td>\n",
       "      <td>79.600002</td>\n",
       "      <td>1.153781</td>\n",
       "    </tr>\n",
       "    <tr>\n",
       "      <th>1373</th>\n",
       "      <td>1.8</td>\n",
       "      <td>1021.25</td>\n",
       "      <td>-200</td>\n",
       "      <td>7.322456</td>\n",
       "      <td>870.75</td>\n",
       "      <td>93.0</td>\n",
       "      <td>938.00</td>\n",
       "      <td>81.0</td>\n",
       "      <td>1586.00</td>\n",
       "      <td>804.50</td>\n",
       "      <td>14.125</td>\n",
       "      <td>64.899998</td>\n",
       "      <td>1.040450</td>\n",
       "    </tr>\n",
       "  </tbody>\n",
       "</table>\n",
       "</div>"
      ],
      "text/plain": [
       "      CO(GT)  PT08.S1(CO)  NMHC(GT)   C6H6(GT)  PT08.S2(NMHC)  NOx(GT)  \\\n",
       "5419     3.8      1458.50      -200  22.913504        1375.25    412.0   \n",
       "2898     1.5       995.00      -200   9.514487         959.25    111.0   \n",
       "5369  -200.0      1631.00      -200  26.040876        1455.25   -200.0   \n",
       "901   -200.0      1141.00      -200   8.074611         902.25   -200.0   \n",
       "1373     1.8      1021.25      -200   7.322456         870.75     93.0   \n",
       "\n",
       "      PT08.S3(NOx)  NO2(GT)  PT08.S4(NO2)  PT08.S5(O3)       T         RH  \\\n",
       "5419        467.25    111.0       2006.75      1689.75  25.950  51.925000   \n",
       "2898        856.00    116.0       1543.75       690.25  33.950  18.375000   \n",
       "5369        437.75   -200.0       2026.75      1915.50  22.400  64.575002   \n",
       "901         904.75   -200.0       1672.25       965.25  12.550  79.600002   \n",
       "1373        938.00     81.0       1586.00       804.50  14.125  64.899998   \n",
       "\n",
       "            AH  \n",
       "5419  1.714822  \n",
       "2898  0.958730  \n",
       "5369  1.727112  \n",
       "901   1.153781  \n",
       "1373  1.040450  "
      ]
     },
     "execution_count": 3,
     "metadata": {},
     "output_type": "execute_result"
    }
   ],
   "source": [
    "air_quality.sample(5)"
   ]
  },
  {
   "cell_type": "markdown",
   "metadata": {},
   "source": [
    "The target variable corresponds to the CO(GT) variable of the first column. The following columns correspond to the variables in the feature vectors, *e.g.*, PT08.S1(CO) is $x_1$ up until AH which is $x_D$. The original dataset also has a date and a time columns that we are not going to use in this assignment.\n",
    "\n",
    "Before designing our predictive model, we need to think about three stages: the preprocessing stage, the training stage and the validation stage. The three stages are interconnected and *it is important to remember that the testing data that we use for validation has to be set aside before preprocessing*. Any preprocessing that you do has to be done only on the training data and several key statistics need to be saved for the test stage.\n",
    "\n",
    "Separating the dataset into training and test before any preprocessing has happened help us to recreate the real world scenario where we will deploy our system and for which the data will come without any preprocessing.\n",
    "\n",
    "We are going to use *hold-out validation* for testing our predictive model so we need to separate the dataset into a training set and a test set.\n",
    "\n",
    "### Question 3: Splitting the dataset (1 mark)\n",
    "\n",
    "Split the dataset into a training set and a test set. The training set should have 70% of the total observations and the test set, the 30%. For making the random selection make sure that you use a random seed that corresponds to the last five digits of your student UCard. Make sure that you comment your code.\n",
    "\n",
    "#### Question 3 Answer"
   ]
  },
  {
   "cell_type": "code",
   "execution_count": 4,
   "metadata": {},
   "outputs": [],
   "source": [
    "# Write your code here\n",
    "import numpy as np\n",
    "np.random.seed(55555)                 # Make sure we use the proper seed\n",
    "ndata = air_quality['CO(GT)'].count() # We count how many rows are there in the dataframe\n",
    "index = np.random.permutation(ndata)  # We permute the indexes \n",
    "n = np.int(np.round(0.7*ndata))       # We compute n, the number of training points  \n",
    "data_training = air_quality.iloc[index[0:n], :] # Select the training data\n",
    "data_test = air_quality.iloc[index[n+1:ndata], :] # Select the test data"
   ]
  },
  {
   "cell_type": "markdown",
   "metadata": {},
   "source": [
    "## Preprocessing the data\n",
    "\n",
    "The dataset has missing values tagged with a -200 value. Before doing any work with the training data, we want to make sure that we deal properly with the missing values. \n",
    "\n",
    "### Question 4: Missing values (3 marks)\n",
    "\n",
    "Make some exploratory analysis on the number of missing values per column in the training data. \n",
    "\n",
    "* Remove the rows for which the target feature has missing values. We are doing supervised learning so we need all our data observations to have known target values.\n",
    "\n",
    "* Remove features with more than 20% of missing values. For all the other features with missing values, use the mean value of the non-missing values for imputation.\n",
    "\n",
    "#### Question 4 Answer"
   ]
  },
  {
   "cell_type": "code",
   "execution_count": 5,
   "metadata": {},
   "outputs": [],
   "source": [
    "# Write your code here\n",
    "# We first remove the rows for which there are missing values in the target feature\n",
    "data_training = data_training.loc[data_training.iloc[:, 0]!=-200, :]"
   ]
  },
  {
   "cell_type": "code",
   "execution_count": 6,
   "metadata": {},
   "outputs": [],
   "source": [
    "# We now remove the columns (features) for which there are more that 20% of missing values\n",
    "n = np.size(data_training, 0)      # New number of data observations after removing those with no target value\n",
    "ncols = np.size(data_training, 1)  # Number of columns in the dataframe\n",
    "nmissing = np.empty(ncols)         # An empty vector that will keep the number of missing values per feature\n",
    "pmissing = np.empty(ncols)         # An empty vector that will keep the percentage of missing values per feature\n",
    "for i in range(ncols):\n",
    "  nmissing[i] = (data_training.iloc[:, i]==-200).sum()\n",
    "  pmissing[i] = nmissing[i]/n\n",
    "data_training = data_training.loc[:, pmissing < 0.2]"
   ]
  },
  {
   "cell_type": "code",
   "execution_count": 7,
   "metadata": {},
   "outputs": [],
   "source": [
    "# We go again through the features replacing the missing values with the average of the no missing values. \n",
    "ncols = np.size(data_training, 1) # We need to count again the number of columns\n",
    "no_missing_means = np.empty(ncols)\n",
    "names_columns = data_training.columns[0:ncols]\n",
    "for i in range(0, ncols):    \n",
    "        value_mean = np.mean(data_training.loc[data_training.iloc[:, i]!=-200, names_columns[i]])\n",
    "        data_training.loc[data_training.iloc[:, i]==-200, names_columns[i]] = value_mean        "
   ]
  },
  {
   "cell_type": "markdown",
   "metadata": {},
   "source": [
    "### Question 5: Normalising the training data (2 marks)\n",
    "\n",
    "Now that you have removed the missing data, we need to normalise the input vectors. \n",
    "\n",
    "* Explain in a sentence why do you need to normalise the input features for this dataset.\n",
    "\n",
    "* Normalise the training data by substracting the mean value for each feature and dividing the result by the standard deviation of each feature. Keep the mean values and standard deviations, you will need them at test time.\n",
    "\n",
    "#### Question 5 Answer\n",
    "\n",
    "Normalisation is necessary when the scales of the input features are in different ranges. By normalising the features, we take them to similar scales and that facilitates finding the optimal parameters, particularly in algorithms that use gradient descent approaches. "
   ]
  },
  {
   "cell_type": "code",
   "execution_count": 8,
   "metadata": {},
   "outputs": [],
   "source": [
    "# Write your code here\n",
    "uX =  (data_training.iloc[:, 1:ncols]).values\n",
    "D = np.size(uX, 1)\n",
    "meansX = np.mean(uX, 0)\n",
    "stdX = np.std(uX, 0)\n",
    "nX = np.empty((n, D))\n",
    "for i in range(D):\n",
    "    nX[:, i] = (uX[:, i] - meansX[i])/stdX[i]  "
   ]
  },
  {
   "cell_type": "markdown",
   "metadata": {},
   "source": [
    "## Training and validation stages\n",
    "\n",
    "We have now curated our training data by removing data observations and features with a large amount of missing values. We have also normalised the feature vectors. We are now in a good position to work on developing the prediction model and validating it. We will use both the closed form expression for $\\mathbf{w}$ and gradient descent for iterative optimisation. \n",
    "\n",
    "We first organise the dataframe into the vector of targets $\\mathbf{y}$ and the design matrix $\\mathbf{X}$."
   ]
  },
  {
   "cell_type": "code",
   "execution_count": 9,
   "metadata": {},
   "outputs": [],
   "source": [
    "y = np.reshape((data_training.iloc[:, 0]).values, (n,1))\n",
    "X = np.concatenate((np.ones((n,1)), nX), axis=1)"
   ]
  },
  {
   "cell_type": "markdown",
   "metadata": {},
   "source": [
    "### Question 6: training with closed form expression for $\\mathbf{w}$ (3 marks)\n",
    "\n",
    "To find the optimal value of $\\mathbf{w}$ using the closed form expression that you derived before, we need to know the value of the regularisation parameter $\\alpha$ in advance. We will determine the value by using part of the training data for finding the parameters $\\mathbf{w}$ and another part of the training data to choose the best $\\alpha$ from a set of predefined values.\n",
    "\n",
    "* Use `np.log(start, stop, num)` to create a set of values for $\\alpha$ in log scale. Use the following parameters `start=-3`, `stop=2` and `num=20`. \n",
    "\n",
    "* Randomly split the training data into what is properly called the training set and the validation set. As before, make sure that you use a random seed that corresponds to the last five digits of your student UCard. Use 70% of the data for the training set and 30% of the data for the validation set.\n",
    "\n",
    "* For each value that you have for $\\alpha$ from the previous step, use the training set to compute $\\mathbf{w}$ and then measure the mean-squared error (MSE) over the validation data. After this, you will have `num=20` MSE values. Choose the value of $\\alpha$ that leads to the lower MSE and save it. You will use it at the test stage.\n",
    "\n",
    "* What was the best value of $\\alpha$? Is there any explanation for that?\n",
    "\n",
    "#### Question 6 Answer"
   ]
  },
  {
   "cell_type": "code",
   "execution_count": 10,
   "metadata": {},
   "outputs": [],
   "source": [
    "# Write your code here\n",
    "num = 20\n",
    "alpha_vector = np.logspace(-3, 2, num)\n",
    "\n",
    "# We now partition the data into the training set and the validation set\n",
    "np.random.seed(55555)                 # Make sure we use the proper seed\n",
    "index = np.random.permutation(n)  # We permute the indexes \n",
    "n2 = np.int(np.round(0.7*n))       # We compute n2, the number of training points  \n",
    "yTrain = y[index[0:n2], :]             # Get the labels for the training set\n",
    "XTrain = X[index[0:n2], :]             # Get the design matrix for the training set\n",
    "yVal = y[index[n2+1:n], :]         # Get the labels for the validation set\n",
    "XVal = X[index[n2+1:n], :]         # Get the design matrix for the validation set\n",
    "\n",
    "# Compute the MSE for all the values of alpha\n",
    "mse_alpha_val = np.empty(num)\n",
    "for i in range(0, num-1):\n",
    "    alpha = alpha_vector[i]\n",
    "    w = np.linalg.solve((XTrain.T@XTrain + (alpha*n2/2)*np.eye(D+1)), XTrain.T@yTrain)\n",
    "    fVal = XVal@w\n",
    "    eVal = yVal-fVal\n",
    "    mse_alpha_val[i] = np.mean(eVal*eVal)\n",
    "alpha = alpha_vector[np.argmin(mse_alpha_val)]"
   ]
  },
  {
   "cell_type": "code",
   "execution_count": 11,
   "metadata": {},
   "outputs": [
    {
     "data": {
      "text/plain": [
       "array([0.2426065 , 0.24245122, 0.24220004, 0.24183019, 0.24137303,\n",
       "       0.24102744, 0.24147662, 0.2448209 , 0.25710105, 0.29445247,\n",
       "       0.39531706, 0.63350077, 1.10267286, 1.84040167, 2.75860136,\n",
       "       3.70133847, 4.55299117, 5.25422284, 5.77922971, 2.        ])"
      ]
     },
     "execution_count": 11,
     "metadata": {},
     "output_type": "execute_result"
    }
   ],
   "source": [
    "mse_alpha_val"
   ]
  },
  {
   "cell_type": "markdown",
   "metadata": {},
   "source": [
    "Because there is a considerable amount of training data, one would expect that very low values of $\\alpha$ lead to better results. One could argue then that regularisation is not necessary in this case."
   ]
  },
  {
   "cell_type": "markdown",
   "metadata": {},
   "source": [
    "### Question 7: validation with the closed form expression for $\\mathbf{w}$ (2 marks)\n",
    "\n",
    "We are going to deal now with the test data to perform the validation of the model. Remember that the test data might also contain missing values in the target variable and in the input features.\n",
    "\n",
    "* Remove the rows of the test data for which the labels have missing values. \n",
    "* If you remove any feature at the training stage, you also need to remove the same features from the test stage.\n",
    "* Replace the missing values on each feature variables with the mean value you computed in the training data.\n",
    "* Normalise the test data using the means and standard deviations computed from the training data\n",
    "* Compute again $\\mathbf{w}$ for the value of $\\alpha$ that best performed on the validation set using ALL the training data (not all the training set).\n",
    "* Report the MSE on the preprocessed test data and an histogram with the absolute error.\n",
    "* Does the regularisation have any effect on the model? Explain your answer.\n",
    "\n",
    "#### Question 7 Answer"
   ]
  },
  {
   "cell_type": "code",
   "execution_count": 12,
   "metadata": {},
   "outputs": [
    {
     "data": {
      "text/plain": [
       "(array([1.795e+03, 3.590e+02, 7.800e+01, 3.600e+01, 1.900e+01, 6.000e+00,\n",
       "        5.000e+00, 0.000e+00, 0.000e+00, 1.000e+00]),\n",
       " array([2.82036147e-04, 4.26587724e-01, 8.52893413e-01, 1.27919910e+00,\n",
       "        1.70550479e+00, 2.13181048e+00, 2.55811617e+00, 2.98442185e+00,\n",
       "        3.41072754e+00, 3.83703323e+00, 4.26333892e+00]),\n",
       " <a list of 10 Patch objects>)"
      ]
     },
     "execution_count": 12,
     "metadata": {},
     "output_type": "execute_result"
    },
    {
     "data": {
      "image/png": "[encoded data removed]",
      "text/plain": [
       "<Figure size 432x288 with 1 Axes>"
      ]
     },
     "metadata": {
      "needs_background": "light"
     },
     "output_type": "display_data"
    }
   ],
   "source": [
    "# Write your code here\n",
    "# We first remove the rows for which there are missing values in the target feature\n",
    "data_test = data_test.loc[data_test.iloc[:, 0]!=-200, :]\n",
    "# We need to remove now those feature for which, at training time, we had more than 20% \n",
    "# missing value\n",
    "data_test = data_test.loc[:, pmissing < 0.2]\n",
    "# We now replace the missing values on each feature variable with the mean of X\n",
    "for i in range(1, ncols):            \n",
    "        data_test.loc[data_test.iloc[:, i]==-200, names_columns[i]] = meansX[i-1]     \n",
    "\n",
    "# We now normalise the test data\n",
    "uXTest =  (data_test.iloc[:, 1:ncols]).values\n",
    "nTest = np.size(uXTest, 0)\n",
    "nXTest = np.empty((nTest, D))\n",
    "for i in range(D):\n",
    "    nXTest[:, i] = (uXTest[:, i] - meansX[i])/stdX[i]\n",
    "# We set the targets and build the design matrix for the test data\n",
    "yTest = np.reshape((data_test.iloc[:, 0]).values, (nTest,1))\n",
    "XTest = np.concatenate((np.ones((nTest,1)), nXTest), axis=1)\n",
    "# Compute w again with the best value of alpha\n",
    "w = np.linalg.solve((X.T@X + alpha*n*np.eye(D+1)), X.T@y)\n",
    "wCF = w\n",
    "# Compute MSE on the test data\n",
    "fTest = XTest@w\n",
    "eTest = yTest - fTest\n",
    "error_test = np.mean(eTest*eTest)\n",
    "# Plot the histogram of the absolute error\n",
    "%matplotlib inline \n",
    "import pylab as plt\n",
    "plt.hist(np.abs(yTest - fTest))"
   ]
  },
  {
   "cell_type": "markdown",
   "metadata": {},
   "source": [
    "## Question 8: training with gradient descent and validation (5 marks)\n",
    "\n",
    "\n",
    "Use gradient descent to iteratively compute the value of $\\mathbf{w}_{\\text{new}}$. Instead of using all the training set to compute the gradient, use a subset of $B$ datapoints in the training set. This is sometimes called minibatch gradient descent where $B$ is the size of the minibacth. When using gradient descent with minibatches, you need to find the best values for three parameters: $\\eta$, the learning rate, $B$, the number of datapoints in the minibatch and $\\alpha$, the regularisation parameter.\n",
    "\n",
    "* As you did on Question 6, create a grid of values for the parameters $\\alpha$ and $\\eta$ using `np.logspace` and a grid of values for $B$ using np.linspace. Because you need to find \n",
    " three parameters, start with `num=5` and see if you can increase it.\n",
    "\n",
    "* Use the same training set and validation set that you used in Question 6.\n",
    "\n",
    "* For each value that you have of $\\alpha$, $\\eta$ and $B$ from the previous step, use the training set to compute $\\mathbf{w}$ using minibatch gradient descent and then measure the MSE over the validation data. For the minibatch gradient descent choose to stop the iterative procedure after $500$ iterations.\n",
    "\n",
    "* Choose the values of $\\alpha$, $\\eta$ and $B$ that lead to the lower MSE and save them. You will use them at the test stage.\n",
    "\n",
    "*3 marks of out of the 5 marks*\n",
    "\n",
    "\n",
    "* Use the test set from Question 7 and provide the MSE obtained by having used minibatch training with the best values for $\\alpha$, $\\eta$ and $B$ over the WHOLE training data (not only the training set).\n",
    "\n",
    "* Compare the performance of the closed form solution and the minibatch solution. Are the performances similar? Are the parameters $\\mathbf{w}$ and $\\alpha$ similar in both approaches? Please comment on both questions.\n",
    "\n",
    "*2 marks of out of the 5 marks*\n",
    "\n",
    "#### Question 8 Answer"
   ]
  },
  {
   "cell_type": "code",
   "execution_count": 13,
   "metadata": {},
   "outputs": [
    {
     "data": {
      "text/plain": [
       "(array([1.692e+03, 4.880e+02, 6.800e+01, 3.300e+01, 8.000e+00, 6.000e+00,\n",
       "        1.000e+00, 2.000e+00, 0.000e+00, 1.000e+00]),\n",
       " array([5.82762042e-04, 4.99025648e-01, 9.97468534e-01, 1.49591142e+00,\n",
       "        1.99435431e+00, 2.49279719e+00, 2.99124008e+00, 3.48968296e+00,\n",
       "        3.98812585e+00, 4.48656873e+00, 4.98501162e+00]),\n",
       " <a list of 10 Patch objects>)"
      ]
     },
     "execution_count": 13,
     "metadata": {},
     "output_type": "execute_result"
    },
    {
     "data": {
      "image/png": "[encoded data removed]",
      "text/plain": [
       "<Figure size 432x288 with 1 Axes>"
      ]
     },
     "metadata": {
      "needs_background": "light"
     },
     "output_type": "display_data"
    }
   ],
   "source": [
    "# Write the code for your answer here\n",
    "num = 5\n",
    "alpha_vector = np.logspace(-3, 0, num)\n",
    "eta_vector = np.logspace(-3, 0, num)\n",
    "B_vector = np.linspace(50, 500, num)\n",
    "max_iters = 100\n",
    "# TRAINING STAGE\n",
    "# Compute the MSE for all the values of alpha, eta and B\n",
    "mse_val = np.empty([num, num, num])\n",
    "for i in range(0, num):\n",
    "    for j in range(0, num):\n",
    "        for k in range(0, num):\n",
    "            alpha = alpha_vector[i]\n",
    "            eta = eta_vector[j]\n",
    "            B = np.int(np.floor(B_vector[k]))\n",
    "            np.random.seed(55555)                 # Use the same seed to initialise w\n",
    "            w = np.random.normal(loc=0.0, scale=1.0, size= [D+1, 1])\n",
    "            for iters in range(0, max_iters):\n",
    "                # We first choose a random subset B of the available training set\n",
    "                index = np.random.permutation(n2)\n",
    "                Xb = XTrain[index[0:B], :]\n",
    "                yb = yTrain[index[0:B], :]\n",
    "                gradient = -(2/B)*(Xb.T@yb) + (2/B)*(Xb.T@Xb@w) + alpha*w\n",
    "                w = w - eta*gradient\n",
    "            fVal = XVal@w\n",
    "            eVal = yVal - fVal\n",
    "            mse_val[i, j, k] = np.mean(eVal*eVal) # Compute the MSE for all combinations \n",
    "best_params = np.argwhere(mse_val == np.min(mse_val))\n",
    "alpha = alpha_vector[best_params[0][0]]\n",
    "eta   = eta_vector[best_params[0][1]]\n",
    "B = np.int(np.round(B_vector[best_params[0][2]]))\n",
    "# TEST STAGE\n",
    "np.random.seed(55555)  # Use the same seed to initialise w\n",
    "w = np.random.normal(loc=0.0, scale=1.0, size= [D+1, 1])\n",
    "for iters in range(0, max_iters):\n",
    "    index = np.random.permutation(n)\n",
    "    Xb = X[index[0:B], :] # We are now using ALL the training data to select the minibatch\n",
    "    yb = y[index[0:B], :] # We are now using ALL the training data to select the minibatch\n",
    "    gradient = -(2/B)*(Xb.T@yb) + (2/B)*(Xb.T@Xb@w) + alpha*w\n",
    "    w = w - eta*gradient\n",
    "wMB = w\n",
    "fTestGD = XTest@w\n",
    "eTestGD = yTest - fTestGD\n",
    "error_testGD = np.mean(eTestGD*eTestGD)\n",
    "# Plot the histogram of the absolute error\n",
    "%matplotlib inline \n",
    "import pylab as plt\n",
    "plt.hist(np.abs(yTest - fTestGD))"
   ]
  },
  {
   "cell_type": "markdown",
   "metadata": {},
   "source": [
    "We compare wCF (closed-form) and wMB (minin-batch)"
   ]
  },
  {
   "cell_type": "code",
   "execution_count": 17,
   "metadata": {},
   "outputs": [
    {
     "data": {
      "text/plain": [
       "array([[ 2.12254970e+00,  1.99324570e+00],\n",
       "       [ 2.64871191e-01,  1.60279414e-01],\n",
       "       [ 4.92770293e-01,  1.22429552e+00],\n",
       "       [ 1.67441201e-01, -7.84823171e-01],\n",
       "       [ 4.84181446e-01,  3.23441690e-01],\n",
       "       [ 6.34986050e-02, -7.49230575e-04],\n",
       "       [ 1.21630813e-01,  2.04636613e-01],\n",
       "       [ 3.21846663e-01,  2.39156971e-01],\n",
       "       [-1.53004486e-01,  2.20639841e-01],\n",
       "       [-1.55058669e-01,  3.04118862e-01],\n",
       "       [-7.85484739e-02,  2.04798463e-01],\n",
       "       [-5.12587290e-02, -3.13537645e-01]])"
      ]
     },
     "execution_count": 17,
     "metadata": {},
     "output_type": "execute_result"
    }
   ],
   "source": [
    "both_w = np.concatenate((wCF, wMB), axis=1)\n",
    "both_w"
   ]
  },
  {
   "cell_type": "markdown",
   "metadata": {},
   "source": [
    "The values for $\\mathbf{w}$ are in general similar (in the same order of magniture, at least). "
   ]
  }
 ],
 "metadata": {
  "kernelspec": {
   "display_name": "Python 3",
   "language": "python",
   "name": "python3"
  },
  "language_info": {
   "codemirror_mode": {
    "name": "ipython",
    "version": 3
   },
   "file_extension": ".py",
   "mimetype": "text/x-python",
   "name": "python",
   "nbconvert_exporter": "python",
   "pygments_lexer": "ipython3",
   "version": "3.7.3"
  }
 },
 "nbformat": 4,
 "nbformat_minor": 2
}
